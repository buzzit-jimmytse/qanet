{
 "cells": [
  {
   "cell_type": "code",
   "execution_count": 1,
   "metadata": {
    "ExecuteTime": {
     "end_time": "2018-11-11T02:04:46.294298Z",
     "start_time": "2018-11-11T02:04:44.808372Z"
    }
   },
   "outputs": [],
   "source": [
    "import numpy as np\n",
    "import pandas as pd"
   ]
  },
  {
   "cell_type": "markdown",
   "metadata": {},
   "source": [
    "# All question data"
   ]
  },
  {
   "cell_type": "code",
   "execution_count": 2,
   "metadata": {
    "ExecuteTime": {
     "end_time": "2018-11-11T02:04:46.448943Z",
     "start_time": "2018-11-11T02:04:46.296097Z"
    }
   },
   "outputs": [],
   "source": [
    "questions = pd.read_csv('../data/SQUAD_Data/v1.1/question_data/questions.csv')"
   ]
  },
  {
   "cell_type": "code",
   "execution_count": 3,
   "metadata": {
    "ExecuteTime": {
     "end_time": "2018-11-11T02:04:46.468484Z",
     "start_time": "2018-11-11T02:04:46.451582Z"
    }
   },
   "outputs": [
    {
     "data": {
      "text/html": [
       "<div>\n",
       "<style scoped>\n",
       "    .dataframe tbody tr th:only-of-type {\n",
       "        vertical-align: middle;\n",
       "    }\n",
       "\n",
       "    .dataframe tbody tr th {\n",
       "        vertical-align: top;\n",
       "    }\n",
       "\n",
       "    .dataframe thead th {\n",
       "        text-align: right;\n",
       "    }\n",
       "</style>\n",
       "<table border=\"1\" class=\"dataframe\">\n",
       "  <thead>\n",
       "    <tr style=\"text-align: right;\">\n",
       "      <th></th>\n",
       "      <th>Question ID</th>\n",
       "      <th>Fold</th>\n",
       "      <th>Answer</th>\n",
       "      <th>Category</th>\n",
       "      <th>Text</th>\n",
       "    </tr>\n",
       "  </thead>\n",
       "  <tbody>\n",
       "    <tr>\n",
       "      <th>0</th>\n",
       "      <td>3009</td>\n",
       "      <td>train</td>\n",
       "      <td>Henry IV of France</td>\n",
       "      <td>History</td>\n",
       "      <td>With the assistence of his chief minister, the...</td>\n",
       "    </tr>\n",
       "    <tr>\n",
       "      <th>1</th>\n",
       "      <td>200192</td>\n",
       "      <td>train</td>\n",
       "      <td>Great Famine (Ireland)</td>\n",
       "      <td>History:Europe</td>\n",
       "      <td>During this event, Charles Wood instructed Lor...</td>\n",
       "    </tr>\n",
       "    <tr>\n",
       "      <th>2</th>\n",
       "      <td>205242</td>\n",
       "      <td>train</td>\n",
       "      <td>Mass spectrometry</td>\n",
       "      <td>Science:Chemistry</td>\n",
       "      <td>One form of this technique based off the cyclo...</td>\n",
       "    </tr>\n",
       "    <tr>\n",
       "      <th>3</th>\n",
       "      <td>202398</td>\n",
       "      <td>train</td>\n",
       "      <td>Ester</td>\n",
       "      <td>Science:Chemistry</td>\n",
       "      <td>A carbon alpha to two carbons with this functi...</td>\n",
       "    </tr>\n",
       "    <tr>\n",
       "      <th>4</th>\n",
       "      <td>111634</td>\n",
       "      <td>train</td>\n",
       "      <td>Tyr</td>\n",
       "      <td>Social_Science</td>\n",
       "      <td>This god is sometimes called Thingsus, which r...</td>\n",
       "    </tr>\n",
       "  </tbody>\n",
       "</table>\n",
       "</div>"
      ],
      "text/plain": [
       "   Question ID   Fold                  Answer           Category  \\\n",
       "0         3009  train      Henry IV of France            History   \n",
       "1       200192  train  Great Famine (Ireland)     History:Europe   \n",
       "2       205242  train       Mass spectrometry  Science:Chemistry   \n",
       "3       202398  train                   Ester  Science:Chemistry   \n",
       "4       111634  train                     Tyr     Social_Science   \n",
       "\n",
       "                                                Text  \n",
       "0  With the assistence of his chief minister, the...  \n",
       "1  During this event, Charles Wood instructed Lor...  \n",
       "2  One form of this technique based off the cyclo...  \n",
       "3  A carbon alpha to two carbons with this functi...  \n",
       "4  This god is sometimes called Thingsus, which r...  "
      ]
     },
     "execution_count": 3,
     "metadata": {},
     "output_type": "execute_result"
    }
   ],
   "source": [
    "questions.head()"
   ]
  },
  {
   "cell_type": "code",
   "execution_count": 4,
   "metadata": {
    "ExecuteTime": {
     "end_time": "2018-11-11T02:04:46.490024Z",
     "start_time": "2018-11-11T02:04:46.471142Z"
    }
   },
   "outputs": [
    {
     "data": {
      "text/html": [
       "<div>\n",
       "<style scoped>\n",
       "    .dataframe tbody tr th:only-of-type {\n",
       "        vertical-align: middle;\n",
       "    }\n",
       "\n",
       "    .dataframe tbody tr th {\n",
       "        vertical-align: top;\n",
       "    }\n",
       "\n",
       "    .dataframe thead th {\n",
       "        text-align: right;\n",
       "    }\n",
       "</style>\n",
       "<table border=\"1\" class=\"dataframe\">\n",
       "  <thead>\n",
       "    <tr style=\"text-align: right;\">\n",
       "      <th></th>\n",
       "      <th>Question ID</th>\n",
       "    </tr>\n",
       "  </thead>\n",
       "  <tbody>\n",
       "    <tr>\n",
       "      <th>count</th>\n",
       "      <td>20407.000000</td>\n",
       "    </tr>\n",
       "    <tr>\n",
       "      <th>mean</th>\n",
       "      <td>115643.942030</td>\n",
       "    </tr>\n",
       "    <tr>\n",
       "      <th>std</th>\n",
       "      <td>74456.576812</td>\n",
       "    </tr>\n",
       "    <tr>\n",
       "      <th>min</th>\n",
       "      <td>1.000000</td>\n",
       "    </tr>\n",
       "    <tr>\n",
       "      <th>25%</th>\n",
       "      <td>13039.500000</td>\n",
       "    </tr>\n",
       "    <tr>\n",
       "      <th>50%</th>\n",
       "      <td>114433.000000</td>\n",
       "    </tr>\n",
       "    <tr>\n",
       "      <th>75%</th>\n",
       "      <td>193736.500000</td>\n",
       "    </tr>\n",
       "    <tr>\n",
       "      <th>max</th>\n",
       "      <td>212891.000000</td>\n",
       "    </tr>\n",
       "  </tbody>\n",
       "</table>\n",
       "</div>"
      ],
      "text/plain": [
       "         Question ID\n",
       "count   20407.000000\n",
       "mean   115643.942030\n",
       "std     74456.576812\n",
       "min         1.000000\n",
       "25%     13039.500000\n",
       "50%    114433.000000\n",
       "75%    193736.500000\n",
       "max    212891.000000"
      ]
     },
     "execution_count": 4,
     "metadata": {},
     "output_type": "execute_result"
    }
   ],
   "source": [
    "questions.describe()"
   ]
  },
  {
   "cell_type": "code",
   "execution_count": 5,
   "metadata": {
    "ExecuteTime": {
     "end_time": "2018-11-11T02:04:46.495598Z",
     "start_time": "2018-11-11T02:04:46.491735Z"
    }
   },
   "outputs": [
    {
     "data": {
      "text/plain": [
       "Index(['Question ID', 'Fold', 'Answer', 'Category', 'Text'], dtype='object')"
      ]
     },
     "execution_count": 5,
     "metadata": {},
     "output_type": "execute_result"
    }
   ],
   "source": [
    "questions.columns"
   ]
  },
  {
   "cell_type": "code",
   "execution_count": 6,
   "metadata": {
    "ExecuteTime": {
     "end_time": "2018-11-11T02:04:46.506288Z",
     "start_time": "2018-11-11T02:04:46.498102Z"
    }
   },
   "outputs": [
    {
     "data": {
      "text/plain": [
       "train    15667\n",
       "test      2370\n",
       "dev       2370\n",
       "Name: Fold, dtype: int64"
      ]
     },
     "execution_count": 6,
     "metadata": {},
     "output_type": "execute_result"
    }
   ],
   "source": [
    "questions['Fold'].value_counts()"
   ]
  },
  {
   "cell_type": "code",
   "execution_count": 7,
   "metadata": {
    "ExecuteTime": {
     "end_time": "2018-11-11T02:04:46.525176Z",
     "start_time": "2018-11-11T02:04:46.508966Z"
    }
   },
   "outputs": [
    {
     "data": {
      "text/html": [
       "<div>\n",
       "<style scoped>\n",
       "    .dataframe tbody tr th:only-of-type {\n",
       "        vertical-align: middle;\n",
       "    }\n",
       "\n",
       "    .dataframe tbody tr th {\n",
       "        vertical-align: top;\n",
       "    }\n",
       "\n",
       "    .dataframe thead th {\n",
       "        text-align: right;\n",
       "    }\n",
       "</style>\n",
       "<table border=\"1\" class=\"dataframe\">\n",
       "  <thead>\n",
       "    <tr style=\"text-align: right;\">\n",
       "      <th></th>\n",
       "      <th>Question ID</th>\n",
       "      <th>Fold</th>\n",
       "      <th>Answer</th>\n",
       "      <th>Category</th>\n",
       "      <th>Text</th>\n",
       "    </tr>\n",
       "  </thead>\n",
       "  <tbody>\n",
       "    <tr>\n",
       "      <th>20393</th>\n",
       "      <td>121407</td>\n",
       "      <td>test</td>\n",
       "      <td>Dona Flor and Her Two Husbands</td>\n",
       "      <td>Literature</td>\n",
       "      <td>The second section of this novel opens with a ...</td>\n",
       "    </tr>\n",
       "  </tbody>\n",
       "</table>\n",
       "</div>"
      ],
      "text/plain": [
       "       Question ID  Fold                          Answer    Category  \\\n",
       "20393       121407  test  Dona Flor and Her Two Husbands  Literature   \n",
       "\n",
       "                                                    Text  \n",
       "20393  The second section of this novel opens with a ...  "
      ]
     },
     "execution_count": 7,
     "metadata": {},
     "output_type": "execute_result"
    }
   ],
   "source": [
    "questions[questions['Question ID']==121407]"
   ]
  },
  {
   "cell_type": "code",
   "execution_count": 8,
   "metadata": {
    "ExecuteTime": {
     "end_time": "2018-11-11T02:04:46.556988Z",
     "start_time": "2018-11-11T02:04:46.528542Z"
    }
   },
   "outputs": [
    {
     "data": {
      "text/html": [
       "<div>\n",
       "<style scoped>\n",
       "    .dataframe tbody tr th:only-of-type {\n",
       "        vertical-align: middle;\n",
       "    }\n",
       "\n",
       "    .dataframe tbody tr th {\n",
       "        vertical-align: top;\n",
       "    }\n",
       "\n",
       "    .dataframe thead th {\n",
       "        text-align: right;\n",
       "    }\n",
       "</style>\n",
       "<table border=\"1\" class=\"dataframe\">\n",
       "  <thead>\n",
       "    <tr style=\"text-align: right;\">\n",
       "      <th></th>\n",
       "      <th>Question ID</th>\n",
       "      <th>Fold</th>\n",
       "      <th>Answer</th>\n",
       "      <th>Category</th>\n",
       "      <th>Text</th>\n",
       "    </tr>\n",
       "  </thead>\n",
       "  <tbody>\n",
       "    <tr>\n",
       "      <th>0</th>\n",
       "      <td>3009</td>\n",
       "      <td>train</td>\n",
       "      <td>Henry IV of France</td>\n",
       "      <td>History</td>\n",
       "      <td>With the assistence of his chief minister, the...</td>\n",
       "    </tr>\n",
       "    <tr>\n",
       "      <th>1</th>\n",
       "      <td>200192</td>\n",
       "      <td>train</td>\n",
       "      <td>Great Famine (Ireland)</td>\n",
       "      <td>History:Europe</td>\n",
       "      <td>During this event, Charles Wood instructed Lor...</td>\n",
       "    </tr>\n",
       "    <tr>\n",
       "      <th>2</th>\n",
       "      <td>205242</td>\n",
       "      <td>train</td>\n",
       "      <td>Mass spectrometry</td>\n",
       "      <td>Science:Chemistry</td>\n",
       "      <td>One form of this technique based off the cyclo...</td>\n",
       "    </tr>\n",
       "    <tr>\n",
       "      <th>3</th>\n",
       "      <td>202398</td>\n",
       "      <td>train</td>\n",
       "      <td>Ester</td>\n",
       "      <td>Science:Chemistry</td>\n",
       "      <td>A carbon alpha to two carbons with this functi...</td>\n",
       "    </tr>\n",
       "    <tr>\n",
       "      <th>4</th>\n",
       "      <td>111634</td>\n",
       "      <td>train</td>\n",
       "      <td>Tyr</td>\n",
       "      <td>Social_Science</td>\n",
       "      <td>This god is sometimes called Thingsus, which r...</td>\n",
       "    </tr>\n",
       "    <tr>\n",
       "      <th>5</th>\n",
       "      <td>189284</td>\n",
       "      <td>train</td>\n",
       "      <td>Johann Sebastian Bach</td>\n",
       "      <td>Fine_Arts</td>\n",
       "      <td>This composer was given the task of improvisin...</td>\n",
       "    </tr>\n",
       "    <tr>\n",
       "      <th>6</th>\n",
       "      <td>3873</td>\n",
       "      <td>train</td>\n",
       "      <td>Inca Empire</td>\n",
       "      <td>History</td>\n",
       "      <td>Their gods included Illapa, the god of thunder...</td>\n",
       "    </tr>\n",
       "    <tr>\n",
       "      <th>7</th>\n",
       "      <td>192507</td>\n",
       "      <td>train</td>\n",
       "      <td>Enthalpy</td>\n",
       "      <td>Science</td>\n",
       "      <td>This quantity remains constant in the Joule-Th...</td>\n",
       "    </tr>\n",
       "    <tr>\n",
       "      <th>8</th>\n",
       "      <td>13075</td>\n",
       "      <td>train</td>\n",
       "      <td>Jesus</td>\n",
       "      <td>Social_Science</td>\n",
       "      <td>One religion says that this figure was taken t...</td>\n",
       "    </tr>\n",
       "    <tr>\n",
       "      <th>9</th>\n",
       "      <td>107378</td>\n",
       "      <td>train</td>\n",
       "      <td>Gibbs free energy</td>\n",
       "      <td>Science:Chemistry</td>\n",
       "      <td>A Frost diagram plots oxidation state against ...</td>\n",
       "    </tr>\n",
       "    <tr>\n",
       "      <th>10</th>\n",
       "      <td>103377</td>\n",
       "      <td>train</td>\n",
       "      <td>Compton scattering</td>\n",
       "      <td>Science:Physics</td>\n",
       "      <td>Variables from the Kompaneets equation can be ...</td>\n",
       "    </tr>\n",
       "    <tr>\n",
       "      <th>11</th>\n",
       "      <td>205213</td>\n",
       "      <td>train</td>\n",
       "      <td>Gibbs free energy</td>\n",
       "      <td>Science:Chemistry</td>\n",
       "      <td>The partial derivative of this quantity over t...</td>\n",
       "    </tr>\n",
       "    <tr>\n",
       "      <th>12</th>\n",
       "      <td>193526</td>\n",
       "      <td>train</td>\n",
       "      <td>Charles Baudelaire</td>\n",
       "      <td>Literature</td>\n",
       "      <td>This poet claimed \"\"Nature is a temple in whic...</td>\n",
       "    </tr>\n",
       "    <tr>\n",
       "      <th>13</th>\n",
       "      <td>196064</td>\n",
       "      <td>train</td>\n",
       "      <td>Tax</td>\n",
       "      <td>History</td>\n",
       "      <td>An official called a defterdar was responsible...</td>\n",
       "    </tr>\n",
       "    <tr>\n",
       "      <th>14</th>\n",
       "      <td>190225</td>\n",
       "      <td>train</td>\n",
       "      <td>Phloem</td>\n",
       "      <td>Science</td>\n",
       "      <td>One of this tissue's two component cell types ...</td>\n",
       "    </tr>\n",
       "    <tr>\n",
       "      <th>15</th>\n",
       "      <td>3550</td>\n",
       "      <td>train</td>\n",
       "      <td>Lajos Kossuth</td>\n",
       "      <td>History</td>\n",
       "      <td>This man opposed the economics-first program a...</td>\n",
       "    </tr>\n",
       "    <tr>\n",
       "      <th>16</th>\n",
       "      <td>109216</td>\n",
       "      <td>train</td>\n",
       "      <td>The Magic Flute</td>\n",
       "      <td>Fine_Arts</td>\n",
       "      <td>The title of this opera comes from the subtitl...</td>\n",
       "    </tr>\n",
       "    <tr>\n",
       "      <th>17</th>\n",
       "      <td>197503</td>\n",
       "      <td>train</td>\n",
       "      <td>Francis Bacon</td>\n",
       "      <td>Social_Science</td>\n",
       "      <td>This thinker called for public funding of scie...</td>\n",
       "    </tr>\n",
       "    <tr>\n",
       "      <th>18</th>\n",
       "      <td>12430</td>\n",
       "      <td>train</td>\n",
       "      <td>Shiva</td>\n",
       "      <td>Social_Science</td>\n",
       "      <td>He has a double, Aghora, who is sometimes repr...</td>\n",
       "    </tr>\n",
       "    <tr>\n",
       "      <th>19</th>\n",
       "      <td>203022</td>\n",
       "      <td>train</td>\n",
       "      <td>Ireland</td>\n",
       "      <td>Literature:Europe</td>\n",
       "      <td>One poet from this country wrote an oriental r...</td>\n",
       "    </tr>\n",
       "    <tr>\n",
       "      <th>20</th>\n",
       "      <td>10643</td>\n",
       "      <td>train</td>\n",
       "      <td>Surface tension</td>\n",
       "      <td>Science:Physics</td>\n",
       "      <td>This phenomenon is the cause of Plateau-Raylei...</td>\n",
       "    </tr>\n",
       "    <tr>\n",
       "      <th>21</th>\n",
       "      <td>9312</td>\n",
       "      <td>train</td>\n",
       "      <td>Gibbs free energy</td>\n",
       "      <td>Science:Chemistry</td>\n",
       "      <td>Setting the partial derivative of this quantit...</td>\n",
       "    </tr>\n",
       "    <tr>\n",
       "      <th>22</th>\n",
       "      <td>101328</td>\n",
       "      <td>train</td>\n",
       "      <td>Candide</td>\n",
       "      <td>Literature</td>\n",
       "      <td>Act II of this play opens with one character t...</td>\n",
       "    </tr>\n",
       "    <tr>\n",
       "      <th>23</th>\n",
       "      <td>201795</td>\n",
       "      <td>train</td>\n",
       "      <td>Enigma Variations</td>\n",
       "      <td>Fine_Arts:Music</td>\n",
       "      <td>During the initial rehearsal for this piece, t...</td>\n",
       "    </tr>\n",
       "    <tr>\n",
       "      <th>24</th>\n",
       "      <td>194229</td>\n",
       "      <td>train</td>\n",
       "      <td>Allen Ginsberg</td>\n",
       "      <td>Literature</td>\n",
       "      <td>In one poem, this author recalled throwing pot...</td>\n",
       "    </tr>\n",
       "    <tr>\n",
       "      <th>25</th>\n",
       "      <td>871</td>\n",
       "      <td>train</td>\n",
       "      <td>Enigma Variations</td>\n",
       "      <td>Fine_Arts</td>\n",
       "      <td>While William Baker and August Jaeger are repr...</td>\n",
       "    </tr>\n",
       "    <tr>\n",
       "      <th>26</th>\n",
       "      <td>211302</td>\n",
       "      <td>train</td>\n",
       "      <td>Sikhism</td>\n",
       "      <td>Social_Science:Religion</td>\n",
       "      <td>Adherents of this religion greet each other wi...</td>\n",
       "    </tr>\n",
       "    <tr>\n",
       "      <th>27</th>\n",
       "      <td>202722</td>\n",
       "      <td>train</td>\n",
       "      <td>Moliere</td>\n",
       "      <td>Literature:Europe</td>\n",
       "      <td>In one play by this author, the high-class Ang...</td>\n",
       "    </tr>\n",
       "    <tr>\n",
       "      <th>28</th>\n",
       "      <td>115349</td>\n",
       "      <td>train</td>\n",
       "      <td>Netherlands</td>\n",
       "      <td>History</td>\n",
       "      <td>During one invasion, this country transferred ...</td>\n",
       "    </tr>\n",
       "    <tr>\n",
       "      <th>29</th>\n",
       "      <td>191316</td>\n",
       "      <td>train</td>\n",
       "      <td>Charlemagne</td>\n",
       "      <td>History</td>\n",
       "      <td>This ruler's campaign against the Saxons inclu...</td>\n",
       "    </tr>\n",
       "    <tr>\n",
       "      <th>...</th>\n",
       "      <td>...</td>\n",
       "      <td>...</td>\n",
       "      <td>...</td>\n",
       "      <td>...</td>\n",
       "      <td>...</td>\n",
       "    </tr>\n",
       "    <tr>\n",
       "      <th>20377</th>\n",
       "      <td>9390</td>\n",
       "      <td>test</td>\n",
       "      <td>Clausius-Clapeyron relation</td>\n",
       "      <td>Science:Chemistry</td>\n",
       "      <td>Data obtained from this equation can be correl...</td>\n",
       "    </tr>\n",
       "    <tr>\n",
       "      <th>20378</th>\n",
       "      <td>3289</td>\n",
       "      <td>test</td>\n",
       "      <td>War of the Austrian Succession</td>\n",
       "      <td>History</td>\n",
       "      <td>This war included the naval victory of Anson a...</td>\n",
       "    </tr>\n",
       "    <tr>\n",
       "      <th>20379</th>\n",
       "      <td>6190</td>\n",
       "      <td>test</td>\n",
       "      <td>The Leopard</td>\n",
       "      <td>Literature</td>\n",
       "      <td>In the final episode of this novel, three of t...</td>\n",
       "    </tr>\n",
       "    <tr>\n",
       "      <th>20380</th>\n",
       "      <td>4189</td>\n",
       "      <td>test</td>\n",
       "      <td>Chiang Kai-shek</td>\n",
       "      <td>History</td>\n",
       "      <td>After helping to overthrow two successive gove...</td>\n",
       "    </tr>\n",
       "    <tr>\n",
       "      <th>20381</th>\n",
       "      <td>13264</td>\n",
       "      <td>test</td>\n",
       "      <td>Peisistratos</td>\n",
       "      <td>Social_Science</td>\n",
       "      <td>During this mans reign, he built a nine-spoute...</td>\n",
       "    </tr>\n",
       "    <tr>\n",
       "      <th>20382</th>\n",
       "      <td>7067</td>\n",
       "      <td>test</td>\n",
       "      <td>Gabriela (telenovela)</td>\n",
       "      <td>Literature</td>\n",
       "      <td>This novel's title character procures her job ...</td>\n",
       "    </tr>\n",
       "    <tr>\n",
       "      <th>20383</th>\n",
       "      <td>112949</td>\n",
       "      <td>test</td>\n",
       "      <td>Rastafari movement</td>\n",
       "      <td>Social_Science</td>\n",
       "      <td>of this movement's foundational texts conclude...</td>\n",
       "    </tr>\n",
       "    <tr>\n",
       "      <th>20384</th>\n",
       "      <td>121381</td>\n",
       "      <td>test</td>\n",
       "      <td>The Playboy of the Western World</td>\n",
       "      <td>Literature</td>\n",
       "      <td>Mustapha Matura wrote an adaptation of this pl...</td>\n",
       "    </tr>\n",
       "    <tr>\n",
       "      <th>20385</th>\n",
       "      <td>119715</td>\n",
       "      <td>test</td>\n",
       "      <td>Ohm's law</td>\n",
       "      <td>Science:Physics</td>\n",
       "      <td>It is an example of linear response theory, an...</td>\n",
       "    </tr>\n",
       "    <tr>\n",
       "      <th>20386</th>\n",
       "      <td>200275</td>\n",
       "      <td>test</td>\n",
       "      <td>Vertigo (film)</td>\n",
       "      <td>Fine_Arts:Audiovisual</td>\n",
       "      <td>Chris Marker's theory that the second half of ...</td>\n",
       "    </tr>\n",
       "    <tr>\n",
       "      <th>20387</th>\n",
       "      <td>123282</td>\n",
       "      <td>test</td>\n",
       "      <td>Kentucky</td>\n",
       "      <td>Social_Science</td>\n",
       "      <td>major geological feature in this state is the ...</td>\n",
       "    </tr>\n",
       "    <tr>\n",
       "      <th>20388</th>\n",
       "      <td>108346</td>\n",
       "      <td>test</td>\n",
       "      <td>The Bronze Horseman (poem)</td>\n",
       "      <td>Literature</td>\n",
       "      <td>The city in which this work is set is contrast...</td>\n",
       "    </tr>\n",
       "    <tr>\n",
       "      <th>20389</th>\n",
       "      <td>190747</td>\n",
       "      <td>test</td>\n",
       "      <td>Sphere</td>\n",
       "      <td>Science</td>\n",
       "      <td>Unit quaternions form the four dimensional ana...</td>\n",
       "    </tr>\n",
       "    <tr>\n",
       "      <th>20390</th>\n",
       "      <td>6301</td>\n",
       "      <td>test</td>\n",
       "      <td>Gulliver's Travels</td>\n",
       "      <td>Literature</td>\n",
       "      <td>In the publisher's note to this book he inform...</td>\n",
       "    </tr>\n",
       "    <tr>\n",
       "      <th>20391</th>\n",
       "      <td>109062</td>\n",
       "      <td>test</td>\n",
       "      <td>Thyroid</td>\n",
       "      <td>Science:Biology</td>\n",
       "      <td>This organ uses selenium as a cofactor in its ...</td>\n",
       "    </tr>\n",
       "    <tr>\n",
       "      <th>20392</th>\n",
       "      <td>1872</td>\n",
       "      <td>test</td>\n",
       "      <td>Quebec</td>\n",
       "      <td>History</td>\n",
       "      <td>As inspiration one commanding officer repeated...</td>\n",
       "    </tr>\n",
       "    <tr>\n",
       "      <th>20393</th>\n",
       "      <td>121407</td>\n",
       "      <td>test</td>\n",
       "      <td>Dona Flor and Her Two Husbands</td>\n",
       "      <td>Literature</td>\n",
       "      <td>The second section of this novel opens with a ...</td>\n",
       "    </tr>\n",
       "    <tr>\n",
       "      <th>20394</th>\n",
       "      <td>123358</td>\n",
       "      <td>test</td>\n",
       "      <td>Alexis de Tocqueville</td>\n",
       "      <td>Social_Science</td>\n",
       "      <td>thinker wrote that \"knowledge of how to combin...</td>\n",
       "    </tr>\n",
       "    <tr>\n",
       "      <th>20395</th>\n",
       "      <td>104903</td>\n",
       "      <td>test</td>\n",
       "      <td>Nicolas Sarkozy</td>\n",
       "      <td>History</td>\n",
       "      <td>He first rose to international prominence in 2...</td>\n",
       "    </tr>\n",
       "    <tr>\n",
       "      <th>20396</th>\n",
       "      <td>197112</td>\n",
       "      <td>test</td>\n",
       "      <td>Tree (graph theory)</td>\n",
       "      <td>Literature</td>\n",
       "      <td>The B variety of this structure forms the back...</td>\n",
       "    </tr>\n",
       "    <tr>\n",
       "      <th>20397</th>\n",
       "      <td>122362</td>\n",
       "      <td>test</td>\n",
       "      <td>Kwame Nkrumah</td>\n",
       "      <td>History</td>\n",
       "      <td>This man's price controls caused his country t...</td>\n",
       "    </tr>\n",
       "    <tr>\n",
       "      <th>20398</th>\n",
       "      <td>117629</td>\n",
       "      <td>test</td>\n",
       "      <td>Thomas Robert Malthus</td>\n",
       "      <td>Social_Science</td>\n",
       "      <td>In one work by this man, he defines the title ...</td>\n",
       "    </tr>\n",
       "    <tr>\n",
       "      <th>20399</th>\n",
       "      <td>194120</td>\n",
       "      <td>test</td>\n",
       "      <td>The Lottery</td>\n",
       "      <td>Literature</td>\n",
       "      <td>In this story, a man named Old Man Warner call...</td>\n",
       "    </tr>\n",
       "    <tr>\n",
       "      <th>20400</th>\n",
       "      <td>109543</td>\n",
       "      <td>test</td>\n",
       "      <td>The Theory of the Leisure Class</td>\n",
       "      <td>Social_Science</td>\n",
       "      <td>This works sixth chapter argues that dogs are ...</td>\n",
       "    </tr>\n",
       "    <tr>\n",
       "      <th>20401</th>\n",
       "      <td>1128</td>\n",
       "      <td>test</td>\n",
       "      <td>Camille Saint-Saens</td>\n",
       "      <td>Fine_Arts</td>\n",
       "      <td>This composer had the violin play 2/4 against ...</td>\n",
       "    </tr>\n",
       "    <tr>\n",
       "      <th>20402</th>\n",
       "      <td>107436</td>\n",
       "      <td>test</td>\n",
       "      <td>Holden Caulfield</td>\n",
       "      <td>Literature</td>\n",
       "      <td>The narrator of the story \"This Sandwich Has N...</td>\n",
       "    </tr>\n",
       "    <tr>\n",
       "      <th>20403</th>\n",
       "      <td>111155</td>\n",
       "      <td>test</td>\n",
       "      <td>Kalidasa</td>\n",
       "      <td>Literature</td>\n",
       "      <td>In one of this mans works, the titular heavenl...</td>\n",
       "    </tr>\n",
       "    <tr>\n",
       "      <th>20404</th>\n",
       "      <td>101055</td>\n",
       "      <td>test</td>\n",
       "      <td>Doubting Thomas</td>\n",
       "      <td>Social_Science</td>\n",
       "      <td>According to Bishop Eusebius of Caesarea, this...</td>\n",
       "    </tr>\n",
       "    <tr>\n",
       "      <th>20405</th>\n",
       "      <td>197577</td>\n",
       "      <td>test</td>\n",
       "      <td>Isomer</td>\n",
       "      <td>Science</td>\n",
       "      <td>These compounds are described using the  E-Z [...</td>\n",
       "    </tr>\n",
       "    <tr>\n",
       "      <th>20406</th>\n",
       "      <td>117642</td>\n",
       "      <td>test</td>\n",
       "      <td>Tlaloc</td>\n",
       "      <td>Social_Science</td>\n",
       "      <td>He is the god associated with the Mazatl, or d...</td>\n",
       "    </tr>\n",
       "  </tbody>\n",
       "</table>\n",
       "<p>20407 rows × 5 columns</p>\n",
       "</div>"
      ],
      "text/plain": [
       "       Question ID   Fold                            Answer  \\\n",
       "0             3009  train                Henry IV of France   \n",
       "1           200192  train            Great Famine (Ireland)   \n",
       "2           205242  train                 Mass spectrometry   \n",
       "3           202398  train                             Ester   \n",
       "4           111634  train                               Tyr   \n",
       "5           189284  train             Johann Sebastian Bach   \n",
       "6             3873  train                       Inca Empire   \n",
       "7           192507  train                          Enthalpy   \n",
       "8            13075  train                             Jesus   \n",
       "9           107378  train                 Gibbs free energy   \n",
       "10          103377  train                Compton scattering   \n",
       "11          205213  train                 Gibbs free energy   \n",
       "12          193526  train                Charles Baudelaire   \n",
       "13          196064  train                               Tax   \n",
       "14          190225  train                            Phloem   \n",
       "15            3550  train                     Lajos Kossuth   \n",
       "16          109216  train                   The Magic Flute   \n",
       "17          197503  train                     Francis Bacon   \n",
       "18           12430  train                             Shiva   \n",
       "19          203022  train                           Ireland   \n",
       "20           10643  train                   Surface tension   \n",
       "21            9312  train                 Gibbs free energy   \n",
       "22          101328  train                           Candide   \n",
       "23          201795  train                 Enigma Variations   \n",
       "24          194229  train                    Allen Ginsberg   \n",
       "25             871  train                 Enigma Variations   \n",
       "26          211302  train                           Sikhism   \n",
       "27          202722  train                           Moliere   \n",
       "28          115349  train                       Netherlands   \n",
       "29          191316  train                       Charlemagne   \n",
       "...            ...    ...                               ...   \n",
       "20377         9390   test       Clausius-Clapeyron relation   \n",
       "20378         3289   test    War of the Austrian Succession   \n",
       "20379         6190   test                       The Leopard   \n",
       "20380         4189   test                   Chiang Kai-shek   \n",
       "20381        13264   test                      Peisistratos   \n",
       "20382         7067   test             Gabriela (telenovela)   \n",
       "20383       112949   test                Rastafari movement   \n",
       "20384       121381   test  The Playboy of the Western World   \n",
       "20385       119715   test                         Ohm's law   \n",
       "20386       200275   test                    Vertigo (film)   \n",
       "20387       123282   test                          Kentucky   \n",
       "20388       108346   test        The Bronze Horseman (poem)   \n",
       "20389       190747   test                            Sphere   \n",
       "20390         6301   test                Gulliver's Travels   \n",
       "20391       109062   test                           Thyroid   \n",
       "20392         1872   test                            Quebec   \n",
       "20393       121407   test    Dona Flor and Her Two Husbands   \n",
       "20394       123358   test             Alexis de Tocqueville   \n",
       "20395       104903   test                   Nicolas Sarkozy   \n",
       "20396       197112   test               Tree (graph theory)   \n",
       "20397       122362   test                     Kwame Nkrumah   \n",
       "20398       117629   test             Thomas Robert Malthus   \n",
       "20399       194120   test                       The Lottery   \n",
       "20400       109543   test   The Theory of the Leisure Class   \n",
       "20401         1128   test               Camille Saint-Saens   \n",
       "20402       107436   test                  Holden Caulfield   \n",
       "20403       111155   test                          Kalidasa   \n",
       "20404       101055   test                   Doubting Thomas   \n",
       "20405       197577   test                            Isomer   \n",
       "20406       117642   test                            Tlaloc   \n",
       "\n",
       "                      Category  \\\n",
       "0                      History   \n",
       "1               History:Europe   \n",
       "2            Science:Chemistry   \n",
       "3            Science:Chemistry   \n",
       "4               Social_Science   \n",
       "5                    Fine_Arts   \n",
       "6                      History   \n",
       "7                      Science   \n",
       "8               Social_Science   \n",
       "9            Science:Chemistry   \n",
       "10             Science:Physics   \n",
       "11           Science:Chemistry   \n",
       "12                  Literature   \n",
       "13                     History   \n",
       "14                     Science   \n",
       "15                     History   \n",
       "16                   Fine_Arts   \n",
       "17              Social_Science   \n",
       "18              Social_Science   \n",
       "19           Literature:Europe   \n",
       "20             Science:Physics   \n",
       "21           Science:Chemistry   \n",
       "22                  Literature   \n",
       "23             Fine_Arts:Music   \n",
       "24                  Literature   \n",
       "25                   Fine_Arts   \n",
       "26     Social_Science:Religion   \n",
       "27           Literature:Europe   \n",
       "28                     History   \n",
       "29                     History   \n",
       "...                        ...   \n",
       "20377        Science:Chemistry   \n",
       "20378                  History   \n",
       "20379               Literature   \n",
       "20380                  History   \n",
       "20381           Social_Science   \n",
       "20382               Literature   \n",
       "20383           Social_Science   \n",
       "20384               Literature   \n",
       "20385          Science:Physics   \n",
       "20386    Fine_Arts:Audiovisual   \n",
       "20387           Social_Science   \n",
       "20388               Literature   \n",
       "20389                  Science   \n",
       "20390               Literature   \n",
       "20391          Science:Biology   \n",
       "20392                  History   \n",
       "20393               Literature   \n",
       "20394           Social_Science   \n",
       "20395                  History   \n",
       "20396               Literature   \n",
       "20397                  History   \n",
       "20398           Social_Science   \n",
       "20399               Literature   \n",
       "20400           Social_Science   \n",
       "20401                Fine_Arts   \n",
       "20402               Literature   \n",
       "20403               Literature   \n",
       "20404           Social_Science   \n",
       "20405                  Science   \n",
       "20406           Social_Science   \n",
       "\n",
       "                                                    Text  \n",
       "0      With the assistence of his chief minister, the...  \n",
       "1      During this event, Charles Wood instructed Lor...  \n",
       "2      One form of this technique based off the cyclo...  \n",
       "3      A carbon alpha to two carbons with this functi...  \n",
       "4      This god is sometimes called Thingsus, which r...  \n",
       "5      This composer was given the task of improvisin...  \n",
       "6      Their gods included Illapa, the god of thunder...  \n",
       "7      This quantity remains constant in the Joule-Th...  \n",
       "8      One religion says that this figure was taken t...  \n",
       "9      A Frost diagram plots oxidation state against ...  \n",
       "10     Variables from the Kompaneets equation can be ...  \n",
       "11     The partial derivative of this quantity over t...  \n",
       "12     This poet claimed \"\"Nature is a temple in whic...  \n",
       "13     An official called a defterdar was responsible...  \n",
       "14     One of this tissue's two component cell types ...  \n",
       "15     This man opposed the economics-first program a...  \n",
       "16     The title of this opera comes from the subtitl...  \n",
       "17     This thinker called for public funding of scie...  \n",
       "18     He has a double, Aghora, who is sometimes repr...  \n",
       "19     One poet from this country wrote an oriental r...  \n",
       "20     This phenomenon is the cause of Plateau-Raylei...  \n",
       "21     Setting the partial derivative of this quantit...  \n",
       "22     Act II of this play opens with one character t...  \n",
       "23     During the initial rehearsal for this piece, t...  \n",
       "24     In one poem, this author recalled throwing pot...  \n",
       "25     While William Baker and August Jaeger are repr...  \n",
       "26     Adherents of this religion greet each other wi...  \n",
       "27     In one play by this author, the high-class Ang...  \n",
       "28     During one invasion, this country transferred ...  \n",
       "29     This ruler's campaign against the Saxons inclu...  \n",
       "...                                                  ...  \n",
       "20377  Data obtained from this equation can be correl...  \n",
       "20378  This war included the naval victory of Anson a...  \n",
       "20379  In the final episode of this novel, three of t...  \n",
       "20380  After helping to overthrow two successive gove...  \n",
       "20381  During this mans reign, he built a nine-spoute...  \n",
       "20382  This novel's title character procures her job ...  \n",
       "20383  of this movement's foundational texts conclude...  \n",
       "20384  Mustapha Matura wrote an adaptation of this pl...  \n",
       "20385  It is an example of linear response theory, an...  \n",
       "20386  Chris Marker's theory that the second half of ...  \n",
       "20387  major geological feature in this state is the ...  \n",
       "20388  The city in which this work is set is contrast...  \n",
       "20389  Unit quaternions form the four dimensional ana...  \n",
       "20390  In the publisher's note to this book he inform...  \n",
       "20391  This organ uses selenium as a cofactor in its ...  \n",
       "20392  As inspiration one commanding officer repeated...  \n",
       "20393  The second section of this novel opens with a ...  \n",
       "20394  thinker wrote that \"knowledge of how to combin...  \n",
       "20395  He first rose to international prominence in 2...  \n",
       "20396  The B variety of this structure forms the back...  \n",
       "20397  This man's price controls caused his country t...  \n",
       "20398  In one work by this man, he defines the title ...  \n",
       "20399  In this story, a man named Old Man Warner call...  \n",
       "20400  This works sixth chapter argues that dogs are ...  \n",
       "20401  This composer had the violin play 2/4 against ...  \n",
       "20402  The narrator of the story \"This Sandwich Has N...  \n",
       "20403  In one of this mans works, the titular heavenl...  \n",
       "20404  According to Bishop Eusebius of Caesarea, this...  \n",
       "20405  These compounds are described using the  E-Z [...  \n",
       "20406  He is the god associated with the Mazatl, or d...  \n",
       "\n",
       "[20407 rows x 5 columns]"
      ]
     },
     "execution_count": 8,
     "metadata": {},
     "output_type": "execute_result"
    }
   ],
   "source": [
    "questions"
   ]
  },
  {
   "cell_type": "markdown",
   "metadata": {},
   "source": [
    "# JSON files (train & dev sets)"
   ]
  },
  {
   "cell_type": "code",
   "execution_count": 9,
   "metadata": {
    "ExecuteTime": {
     "end_time": "2018-11-11T02:04:46.561511Z",
     "start_time": "2018-11-11T02:04:46.558800Z"
    }
   },
   "outputs": [],
   "source": [
    "import json"
   ]
  },
  {
   "cell_type": "code",
   "execution_count": 10,
   "metadata": {
    "ExecuteTime": {
     "end_time": "2018-11-11T02:04:47.230791Z",
     "start_time": "2018-11-11T02:04:46.563764Z"
    }
   },
   "outputs": [],
   "source": [
    "dev = json.load(open('../data/SQUAD_Data/v1.1/dev-v1.1.json', 'rt'))\n",
    "train = json.load(open('../data/SQUAD_Data/v1.1/train-v1.1.json', 'rt'))"
   ]
  },
  {
   "cell_type": "markdown",
   "metadata": {},
   "source": [
    "### Data structure\n",
    "* dev['data']: array of articles\n",
    "* dev['data'][0]: 1 article\n",
    "* dev['data'][0]['title']: title of the article\n",
    "* dev['data'][0]['paragraphs']: list of paragraphs\n",
    "* dev['data'][0]['paragraphs'][0]: 1 paragraph, including 2 keys: `context` & `qas`\n",
    "* dev['data'][0]['paragraphs'][0]['context']: text content of the paragraph\n",
    "* dev['data'][0]['paragraphs'][0]['qas']: list of question-answer sets on the pararaph\n",
    "* dev['data'][0]['paragraphs'][0]['qas'][0]: 1 set of question-answer, including 3 keys: `answers`, `question` & `id`\n",
    "* dev['data'][0]['paragraphs'][0]['qas'][0]['id']: ID of the question\n",
    "* dev['data'][0]['paragraphs'][0]['qas'][0]['question']: question text\n",
    "* dev['data'][0]['paragraphs'][0]['qas'][0]['answers']: list of 3 answers of the questions. Each answer consists of 2 keys: `answer_start` & `text`\n",
    "* dev['data'][0]['paragraphs'][0]['qas'][0]['answers']['answer_start']: index of the start character of the answer text in the paragraph\n",
    "* dev['data'][0]['paragraphs'][0]['qas'][0]['answers']['text']: the answer text"
   ]
  },
  {
   "cell_type": "markdown",
   "metadata": {},
   "source": [
    "# Stats"
   ]
  },
  {
   "cell_type": "markdown",
   "metadata": {},
   "source": [
    "### Num of articles"
   ]
  },
  {
   "cell_type": "code",
   "execution_count": 11,
   "metadata": {
    "ExecuteTime": {
     "end_time": "2018-11-11T02:04:47.235814Z",
     "start_time": "2018-11-11T02:04:47.232412Z"
    }
   },
   "outputs": [
    {
     "name": "stdout",
     "output_type": "stream",
     "text": [
      "Num of train articles: 2\n",
      "Num of dev articles: 2\n"
     ]
    }
   ],
   "source": [
    "print('Num of train articles: {}'.format(len(train)))\n",
    "print('Num of dev articles: {}'.format(len(dev)))"
   ]
  },
  {
   "cell_type": "markdown",
   "metadata": {},
   "source": [
    "### Num of paragraphs"
   ]
  },
  {
   "cell_type": "code",
   "execution_count": 12,
   "metadata": {
    "ExecuteTime": {
     "end_time": "2018-11-11T02:04:47.241005Z",
     "start_time": "2018-11-11T02:04:47.238043Z"
    }
   },
   "outputs": [],
   "source": [
    "def num_paragraphs(ds):\n",
    "    return np.sum([len(article['paragraphs']) for article in ds['data']])        "
   ]
  },
  {
   "cell_type": "code",
   "execution_count": 13,
   "metadata": {
    "ExecuteTime": {
     "end_time": "2018-11-11T02:04:47.247859Z",
     "start_time": "2018-11-11T02:04:47.243465Z"
    }
   },
   "outputs": [
    {
     "name": "stdout",
     "output_type": "stream",
     "text": [
      "Num of train paragraphs: 18,896\n",
      "Num of dev paragraphs: 2,067\n"
     ]
    }
   ],
   "source": [
    "print('Num of train paragraphs: {:,}'.format(num_paragraphs(train)))\n",
    "print('Num of dev paragraphs: {:,}'.format(num_paragraphs(dev)))"
   ]
  },
  {
   "cell_type": "markdown",
   "metadata": {},
   "source": [
    "### Num of questions"
   ]
  },
  {
   "cell_type": "code",
   "execution_count": 14,
   "metadata": {
    "ExecuteTime": {
     "end_time": "2018-11-11T02:04:47.263817Z",
     "start_time": "2018-11-11T02:04:47.249803Z"
    }
   },
   "outputs": [
    {
     "name": "stdout",
     "output_type": "stream",
     "text": [
      "Num of train questions: 87,599\n",
      "Num of dev questions: 10,570\n"
     ]
    }
   ],
   "source": [
    "def num_questions(ds):\n",
    "    return np.sum([len(para['qas']) for article in ds['data'] for para in article['paragraphs']])\n",
    "\n",
    "print('Num of train questions: {:,}'.format(num_questions(train)))\n",
    "print('Num of dev questions: {:,}'.format(num_questions(dev)))"
   ]
  },
  {
   "cell_type": "markdown",
   "metadata": {},
   "source": [
    "* `dev['data'][0]` corresponds to the article https://rajpurkar.github.io/SQuAD-explorer/explore/1.1/dev/Super_Bowl_50.html"
   ]
  },
  {
   "cell_type": "markdown",
   "metadata": {},
   "source": [
    "# Samples"
   ]
  },
  {
   "cell_type": "code",
   "execution_count": 15,
   "metadata": {
    "ExecuteTime": {
     "end_time": "2018-11-11T02:04:47.269048Z",
     "start_time": "2018-11-11T02:04:47.265653Z"
    }
   },
   "outputs": [
    {
     "data": {
      "text/plain": [
       "dict_keys(['title', 'paragraphs'])"
      ]
     },
     "execution_count": 15,
     "metadata": {},
     "output_type": "execute_result"
    }
   ],
   "source": [
    "dev['data'][0].keys()"
   ]
  },
  {
   "cell_type": "code",
   "execution_count": 16,
   "metadata": {
    "ExecuteTime": {
     "end_time": "2018-11-11T02:04:47.275529Z",
     "start_time": "2018-11-11T02:04:47.271442Z"
    }
   },
   "outputs": [
    {
     "data": {
      "text/plain": [
       "54"
      ]
     },
     "execution_count": 16,
     "metadata": {},
     "output_type": "execute_result"
    }
   ],
   "source": [
    "len(dev['data'][0]['paragraphs'])"
   ]
  },
  {
   "cell_type": "code",
   "execution_count": 17,
   "metadata": {
    "ExecuteTime": {
     "end_time": "2018-11-11T02:04:47.283313Z",
     "start_time": "2018-11-11T02:04:47.278141Z"
    }
   },
   "outputs": [
    {
     "data": {
      "text/plain": [
       "'Super Bowl 50 was an American football game to determine the champion of the National Football League (NFL) for the 2015 season. The American Football Conference (AFC) champion Denver Broncos defeated the National Football Conference (NFC) champion Carolina Panthers 24–10 to earn their third Super Bowl title. The game was played on February 7, 2016, at Levi\\'s Stadium in the San Francisco Bay Area at Santa Clara, California. As this was the 50th Super Bowl, the league emphasized the \"golden anniversary\" with various gold-themed initiatives, as well as temporarily suspending the tradition of naming each Super Bowl game with Roman numerals (under which the game would have been known as \"Super Bowl L\"), so that the logo could prominently feature the Arabic numerals 50.'"
      ]
     },
     "execution_count": 17,
     "metadata": {},
     "output_type": "execute_result"
    }
   ],
   "source": [
    "dev['data'][0]['paragraphs'][0]['context']"
   ]
  },
  {
   "cell_type": "code",
   "execution_count": 18,
   "metadata": {
    "ExecuteTime": {
     "end_time": "2018-11-11T02:04:47.292645Z",
     "start_time": "2018-11-11T02:04:47.286247Z"
    }
   },
   "outputs": [
    {
     "data": {
      "text/plain": [
       "30"
      ]
     },
     "execution_count": 18,
     "metadata": {},
     "output_type": "execute_result"
    }
   ],
   "source": [
    "len(dev['data'][0]['paragraphs'][0]['qas'])"
   ]
  },
  {
   "cell_type": "code",
   "execution_count": 19,
   "metadata": {
    "ExecuteTime": {
     "end_time": "2018-11-11T02:04:47.299919Z",
     "start_time": "2018-11-11T02:04:47.295310Z"
    }
   },
   "outputs": [
    {
     "data": {
      "text/plain": [
       "dict_keys(['answers', 'question', 'id'])"
      ]
     },
     "execution_count": 19,
     "metadata": {},
     "output_type": "execute_result"
    }
   ],
   "source": [
    "dev['data'][0]['paragraphs'][0]['qas'][0].keys()"
   ]
  },
  {
   "cell_type": "code",
   "execution_count": 20,
   "metadata": {
    "ExecuteTime": {
     "end_time": "2018-11-11T02:04:47.314409Z",
     "start_time": "2018-11-11T02:04:47.302637Z"
    }
   },
   "outputs": [
    {
     "data": {
      "text/plain": [
       "[{'answers': [{'answer_start': 177, 'text': 'Denver Broncos'},\n",
       "   {'answer_start': 177, 'text': 'Denver Broncos'},\n",
       "   {'answer_start': 177, 'text': 'Denver Broncos'}],\n",
       "  'question': 'Which NFL team represented the AFC at Super Bowl 50?',\n",
       "  'id': '56be4db0acb8001400a502ec'},\n",
       " {'answers': [{'answer_start': 249, 'text': 'Carolina Panthers'},\n",
       "   {'answer_start': 249, 'text': 'Carolina Panthers'},\n",
       "   {'answer_start': 249, 'text': 'Carolina Panthers'}],\n",
       "  'question': 'Which NFL team represented the NFC at Super Bowl 50?',\n",
       "  'id': '56be4db0acb8001400a502ed'},\n",
       " {'answers': [{'answer_start': 403, 'text': 'Santa Clara, California'},\n",
       "   {'answer_start': 355, 'text': \"Levi's Stadium\"},\n",
       "   {'answer_start': 355,\n",
       "    'text': \"Levi's Stadium in the San Francisco Bay Area at Santa Clara, California.\"}],\n",
       "  'question': 'Where did Super Bowl 50 take place?',\n",
       "  'id': '56be4db0acb8001400a502ee'},\n",
       " {'answers': [{'answer_start': 177, 'text': 'Denver Broncos'},\n",
       "   {'answer_start': 177, 'text': 'Denver Broncos'},\n",
       "   {'answer_start': 177, 'text': 'Denver Broncos'}],\n",
       "  'question': 'Which NFL team won Super Bowl 50?',\n",
       "  'id': '56be4db0acb8001400a502ef'},\n",
       " {'answers': [{'answer_start': 488, 'text': 'gold'},\n",
       "   {'answer_start': 488, 'text': 'gold'},\n",
       "   {'answer_start': 521, 'text': 'gold'}],\n",
       "  'question': 'What color was used to emphasize the 50th anniversary of the Super Bowl?',\n",
       "  'id': '56be4db0acb8001400a502f0'},\n",
       " {'answers': [{'answer_start': 487, 'text': '\"golden anniversary\"'},\n",
       "   {'answer_start': 521, 'text': 'gold-themed'},\n",
       "   {'answer_start': 487, 'text': '\"golden anniversary'}],\n",
       "  'question': 'What was the theme of Super Bowl 50?',\n",
       "  'id': '56be8e613aeaaa14008c90d1'},\n",
       " {'answers': [{'answer_start': 334, 'text': 'February 7, 2016'},\n",
       "   {'answer_start': 334, 'text': 'February 7'},\n",
       "   {'answer_start': 334, 'text': 'February 7, 2016'}],\n",
       "  'question': 'What day was the game played on?',\n",
       "  'id': '56be8e613aeaaa14008c90d2'},\n",
       " {'answers': [{'answer_start': 133, 'text': 'American Football Conference'},\n",
       "   {'answer_start': 133, 'text': 'American Football Conference'},\n",
       "   {'answer_start': 133, 'text': 'American Football Conference'}],\n",
       "  'question': 'What is the AFC short for?',\n",
       "  'id': '56be8e613aeaaa14008c90d3'},\n",
       " {'answers': [{'answer_start': 487, 'text': '\"golden anniversary\"'},\n",
       "   {'answer_start': 521, 'text': 'gold-themed'},\n",
       "   {'answer_start': 521, 'text': 'gold'}],\n",
       "  'question': 'What was the theme of Super Bowl 50?',\n",
       "  'id': '56bea9923aeaaa14008c91b9'},\n",
       " {'answers': [{'answer_start': 133, 'text': 'American Football Conference'},\n",
       "   {'answer_start': 133, 'text': 'American Football Conference'},\n",
       "   {'answer_start': 133, 'text': 'American Football Conference'}],\n",
       "  'question': 'What does AFC stand for?',\n",
       "  'id': '56bea9923aeaaa14008c91ba'},\n",
       " {'answers': [{'answer_start': 334, 'text': 'February 7, 2016'},\n",
       "   {'answer_start': 334, 'text': 'February 7'},\n",
       "   {'answer_start': 334, 'text': 'February 7, 2016'}],\n",
       "  'question': 'What day was the Super Bowl played on?',\n",
       "  'id': '56bea9923aeaaa14008c91bb'},\n",
       " {'answers': [{'answer_start': 177, 'text': 'Denver Broncos'},\n",
       "   {'answer_start': 177, 'text': 'Denver Broncos'},\n",
       "   {'answer_start': 177, 'text': 'Denver Broncos'}],\n",
       "  'question': 'Who won Super Bowl 50?',\n",
       "  'id': '56beace93aeaaa14008c91df'},\n",
       " {'answers': [{'answer_start': 355, 'text': \"Levi's Stadium\"},\n",
       "   {'answer_start': 355, 'text': \"Levi's Stadium\"},\n",
       "   {'answer_start': 355,\n",
       "    'text': \"Levi's Stadium in the San Francisco Bay Area at Santa Clara\"}],\n",
       "  'question': 'What venue did Super Bowl 50 take place in?',\n",
       "  'id': '56beace93aeaaa14008c91e0'},\n",
       " {'answers': [{'answer_start': 403, 'text': 'Santa Clara'},\n",
       "   {'answer_start': 403, 'text': 'Santa Clara'},\n",
       "   {'answer_start': 403, 'text': 'Santa Clara'}],\n",
       "  'question': 'What city did Super Bowl 50 take place in?',\n",
       "  'id': '56beace93aeaaa14008c91e1'},\n",
       " {'answers': [{'answer_start': 693, 'text': 'Super Bowl L'},\n",
       "   {'answer_start': 704, 'text': 'L'},\n",
       "   {'answer_start': 693, 'text': 'Super Bowl L'}],\n",
       "  'question': 'If Roman numerals were used, what would Super Bowl 50 have been called?',\n",
       "  'id': '56beace93aeaaa14008c91e2'},\n",
       " {'answers': [{'answer_start': 116, 'text': '2015'},\n",
       "   {'answer_start': 112, 'text': 'the 2015 season'},\n",
       "   {'answer_start': 116, 'text': '2015'}],\n",
       "  'question': 'Super Bowl 50 decided the NFL champion for what season?',\n",
       "  'id': '56beace93aeaaa14008c91e3'},\n",
       " {'answers': [{'answer_start': 116, 'text': '2015'},\n",
       "   {'answer_start': 346, 'text': '2016'},\n",
       "   {'answer_start': 116, 'text': '2015'}],\n",
       "  'question': 'What year did the Denver Broncos secure a Super Bowl title for the third time?',\n",
       "  'id': '56bf10f43aeaaa14008c94fd'},\n",
       " {'answers': [{'answer_start': 403, 'text': 'Santa Clara'},\n",
       "   {'answer_start': 403, 'text': 'Santa Clara'},\n",
       "   {'answer_start': 403, 'text': 'Santa Clara'}],\n",
       "  'question': 'What city did Super Bowl 50 take place in?',\n",
       "  'id': '56bf10f43aeaaa14008c94fe'},\n",
       " {'answers': [{'answer_start': 355, 'text': \"Levi's Stadium\"},\n",
       "   {'answer_start': 355, 'text': \"Levi's Stadium\"},\n",
       "   {'answer_start': 355, 'text': \"Levi's Stadium\"}],\n",
       "  'question': 'What stadium did Super Bowl 50 take place in?',\n",
       "  'id': '56bf10f43aeaaa14008c94ff'},\n",
       " {'answers': [{'answer_start': 267, 'text': '24–10'},\n",
       "   {'answer_start': 267, 'text': '24–10'},\n",
       "   {'answer_start': 267, 'text': '24–10'}],\n",
       "  'question': 'What was the final score of Super Bowl 50? ',\n",
       "  'id': '56bf10f43aeaaa14008c9500'},\n",
       " {'answers': [{'answer_start': 334, 'text': 'February 7, 2016'},\n",
       "   {'answer_start': 334, 'text': 'February 7, 2016'},\n",
       "   {'answer_start': 334, 'text': 'February 7, 2016'}],\n",
       "  'question': 'What month, day and year did Super Bowl 50 take place? ',\n",
       "  'id': '56bf10f43aeaaa14008c9501'},\n",
       " {'answers': [{'answer_start': 116, 'text': '2015'},\n",
       "   {'answer_start': 346, 'text': '2016'},\n",
       "   {'answer_start': 346, 'text': '2016'}],\n",
       "  'question': 'What year was Super Bowl 50?',\n",
       "  'id': '56d20362e7d4791d009025e8'},\n",
       " {'answers': [{'answer_start': 177, 'text': 'Denver Broncos'},\n",
       "   {'answer_start': 177, 'text': 'Denver Broncos'},\n",
       "   {'answer_start': 177, 'text': 'Denver Broncos'}],\n",
       "  'question': 'What team was the AFC champion?',\n",
       "  'id': '56d20362e7d4791d009025e9'},\n",
       " {'answers': [{'answer_start': 249, 'text': 'Carolina Panthers'},\n",
       "   {'answer_start': 249, 'text': 'Carolina Panthers'},\n",
       "   {'answer_start': 249, 'text': 'Carolina Panthers'}],\n",
       "  'question': 'What team was the NFC champion?',\n",
       "  'id': '56d20362e7d4791d009025ea'},\n",
       " {'answers': [{'answer_start': 177, 'text': 'Denver Broncos'},\n",
       "   {'answer_start': 177, 'text': 'Denver Broncos'},\n",
       "   {'answer_start': 177, 'text': 'Denver Broncos'}],\n",
       "  'question': 'Who won Super Bowl 50?',\n",
       "  'id': '56d20362e7d4791d009025eb'},\n",
       " {'answers': [{'answer_start': 116, 'text': '2015'},\n",
       "   {'answer_start': 112, 'text': 'the 2015 season'},\n",
       "   {'answer_start': 116, 'text': '2015'}],\n",
       "  'question': 'Super Bowl 50 determined the NFL champion for what season?',\n",
       "  'id': '56d600e31c85041400946eae'},\n",
       " {'answers': [{'answer_start': 177, 'text': 'Denver Broncos'},\n",
       "   {'answer_start': 177, 'text': 'Denver Broncos'},\n",
       "   {'answer_start': 177, 'text': 'Denver Broncos'}],\n",
       "  'question': 'Which team won Super Bowl 50.',\n",
       "  'id': '56d600e31c85041400946eb0'},\n",
       " {'answers': [{'answer_start': 403, 'text': 'Santa Clara, California.'},\n",
       "   {'answer_start': 355, 'text': \"Levi's Stadium\"},\n",
       "   {'answer_start': 355, 'text': \"Levi's Stadium\"}],\n",
       "  'question': 'Where was Super Bowl 50 held?',\n",
       "  'id': '56d600e31c85041400946eb1'},\n",
       " {'answers': [{'answer_start': 0, 'text': 'Super Bowl'},\n",
       "   {'answer_start': 0, 'text': 'Super Bowl'},\n",
       "   {'answer_start': 0, 'text': 'Super Bowl'}],\n",
       "  'question': 'The name of the NFL championship game is?',\n",
       "  'id': '56d9895ddc89441400fdb50e'},\n",
       " {'answers': [{'answer_start': 177, 'text': 'Denver Broncos'},\n",
       "   {'answer_start': 177, 'text': 'Denver Broncos'},\n",
       "   {'answer_start': 177, 'text': 'Denver Broncos'}],\n",
       "  'question': 'What 2015 NFL team one the AFC playoff?',\n",
       "  'id': '56d9895ddc89441400fdb510'}]"
      ]
     },
     "execution_count": 20,
     "metadata": {},
     "output_type": "execute_result"
    }
   ],
   "source": [
    "dev['data'][0]['paragraphs'][0]['qas']"
   ]
  },
  {
   "cell_type": "code",
   "execution_count": 21,
   "metadata": {
    "ExecuteTime": {
     "end_time": "2018-11-11T02:04:47.321212Z",
     "start_time": "2018-11-11T02:04:47.316605Z"
    }
   },
   "outputs": [
    {
     "data": {
      "text/plain": [
       "['Which NFL team represented the AFC at Super Bowl 50?',\n",
       " 'Which NFL team represented the NFC at Super Bowl 50?',\n",
       " 'Where did Super Bowl 50 take place?',\n",
       " 'Which NFL team won Super Bowl 50?',\n",
       " 'What color was used to emphasize the 50th anniversary of the Super Bowl?',\n",
       " 'What was the theme of Super Bowl 50?',\n",
       " 'What day was the game played on?',\n",
       " 'What is the AFC short for?',\n",
       " 'What was the theme of Super Bowl 50?',\n",
       " 'What does AFC stand for?',\n",
       " 'What day was the Super Bowl played on?',\n",
       " 'Who won Super Bowl 50?',\n",
       " 'What venue did Super Bowl 50 take place in?',\n",
       " 'What city did Super Bowl 50 take place in?',\n",
       " 'If Roman numerals were used, what would Super Bowl 50 have been called?',\n",
       " 'Super Bowl 50 decided the NFL champion for what season?',\n",
       " 'What year did the Denver Broncos secure a Super Bowl title for the third time?',\n",
       " 'What city did Super Bowl 50 take place in?',\n",
       " 'What stadium did Super Bowl 50 take place in?',\n",
       " 'What was the final score of Super Bowl 50? ',\n",
       " 'What month, day and year did Super Bowl 50 take place? ',\n",
       " 'What year was Super Bowl 50?',\n",
       " 'What team was the AFC champion?',\n",
       " 'What team was the NFC champion?',\n",
       " 'Who won Super Bowl 50?',\n",
       " 'Super Bowl 50 determined the NFL champion for what season?',\n",
       " 'Which team won Super Bowl 50.',\n",
       " 'Where was Super Bowl 50 held?',\n",
       " 'The name of the NFL championship game is?',\n",
       " 'What 2015 NFL team one the AFC playoff?']"
      ]
     },
     "execution_count": 21,
     "metadata": {},
     "output_type": "execute_result"
    }
   ],
   "source": [
    "[q['question'] for q in dev['data'][0]['paragraphs'][0]['qas']]"
   ]
  },
  {
   "cell_type": "code",
   "execution_count": 22,
   "metadata": {
    "ExecuteTime": {
     "end_time": "2018-11-11T02:04:47.328420Z",
     "start_time": "2018-11-11T02:04:47.324031Z"
    }
   },
   "outputs": [
    {
     "data": {
      "text/plain": [
       "30"
      ]
     },
     "execution_count": 22,
     "metadata": {},
     "output_type": "execute_result"
    }
   ],
   "source": [
    "len(dev['data'][0]['paragraphs'][0]['qas'])"
   ]
  },
  {
   "cell_type": "markdown",
   "metadata": {},
   "source": [
    "# Please note that test set is hidden -> no data for it"
   ]
  }
 ],
 "metadata": {
  "kernelspec": {
   "display_name": "Python 3",
   "language": "python",
   "name": "python3"
  },
  "language_info": {
   "codemirror_mode": {
    "name": "ipython",
    "version": 3
   },
   "file_extension": ".py",
   "mimetype": "text/x-python",
   "name": "python",
   "nbconvert_exporter": "python",
   "pygments_lexer": "ipython3",
   "version": "3.6.4"
  }
 },
 "nbformat": 4,
 "nbformat_minor": 2
}
