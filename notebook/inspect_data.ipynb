{
 "cells": [
  {
   "cell_type": "code",
   "execution_count": 1,
   "metadata": {
    "ExecuteTime": {
     "end_time": "2018-12-13T13:52:41.351218Z",
     "start_time": "2018-12-13T13:52:41.348343Z"
    }
   },
   "outputs": [],
   "source": [
    "import sys\n",
    "sys.path.append('../src/squad')"
   ]
  },
  {
   "cell_type": "code",
   "execution_count": 2,
   "metadata": {
    "ExecuteTime": {
     "end_time": "2018-12-13T13:52:42.665843Z",
     "start_time": "2018-12-13T13:52:41.353392Z"
    }
   },
   "outputs": [],
   "source": [
    "from collections import Counter\n",
    "from common import Vocabulary, Span, Answer, Question, Paragraph, SquadData\n",
    "from config import Config as cf\n",
    "import matplotlib.pyplot as plt\n",
    "import seaborn as sns\n",
    "\n",
    "%matplotlib inline"
   ]
  },
  {
   "cell_type": "code",
   "execution_count": 3,
   "metadata": {
    "ExecuteTime": {
     "end_time": "2018-12-13T13:52:57.337094Z",
     "start_time": "2018-12-13T13:52:42.667411Z"
    }
   },
   "outputs": [
    {
     "name": "stdout",
     "output_type": "stream",
     "text": [
      "Loading squad data from pickle file ../data/SQUAD_Data/v1.1/squad_processed-v1.1.pkl...\n"
     ]
    }
   ],
   "source": [
    "data = SquadData.load(cf.SQUAD_DATA.replace('../../', '../'))"
   ]
  },
  {
   "cell_type": "markdown",
   "metadata": {},
   "source": [
    "# Paragraphs"
   ]
  },
  {
   "cell_type": "code",
   "execution_count": 4,
   "metadata": {
    "ExecuteTime": {
     "end_time": "2018-12-13T13:52:57.344103Z",
     "start_time": "2018-12-13T13:52:57.339362Z"
    }
   },
   "outputs": [
    {
     "name": "stdout",
     "output_type": "stream",
     "text": [
      "Num of paragraphs: 18,896\n",
      "Num of paragraphs: 2,067\n"
     ]
    }
   ],
   "source": [
    "print('Num of paragraphs: {:,}'.format(len(data.train_paragraphs)))\n",
    "print('Num of paragraphs: {:,}'.format(len(data.dev_paragraphs)))"
   ]
  },
  {
   "cell_type": "markdown",
   "metadata": {},
   "source": [
    "# Questions"
   ]
  },
  {
   "cell_type": "code",
   "execution_count": 5,
   "metadata": {
    "ExecuteTime": {
     "end_time": "2018-12-13T13:52:57.368670Z",
     "start_time": "2018-12-13T13:52:57.345119Z"
    }
   },
   "outputs": [
    {
     "name": "stdout",
     "output_type": "stream",
     "text": [
      "Num of questions: 87,599\n",
      "Num of questions: 10,570\n"
     ]
    }
   ],
   "source": [
    "ques_train_count = 0\n",
    "ques_dev_count = 0\n",
    "for para in data.train_paragraphs:\n",
    "    ques_train_count += len(para.questions)\n",
    "for para in data.dev_paragraphs:\n",
    "    ques_dev_count += len(para.questions)\n",
    "\n",
    "print('Num of questions: {:,}'.format(ques_train_count))\n",
    "print('Num of questions: {:,}'.format(ques_dev_count))"
   ]
  },
  {
   "cell_type": "markdown",
   "metadata": {},
   "source": [
    "# Distribution of context"
   ]
  },
  {
   "cell_type": "code",
   "execution_count": 6,
   "metadata": {
    "ExecuteTime": {
     "end_time": "2018-12-13T13:52:57.389610Z",
     "start_time": "2018-12-13T13:52:57.369622Z"
    }
   },
   "outputs": [],
   "source": [
    "context_len = Counter()\n",
    "for para in data.train_paragraphs:\n",
    "    context_len[len(para.context_toks)] += 1"
   ]
  },
  {
   "cell_type": "code",
   "execution_count": 7,
   "metadata": {
    "ExecuteTime": {
     "end_time": "2018-12-13T13:52:57.401409Z",
     "start_time": "2018-12-13T13:52:57.390578Z"
    }
   },
   "outputs": [],
   "source": [
    "total = 0\n",
    "longer_than = 0\n",
    "for k in sorted(list(context_len.keys())):\n",
    "    total += context_len[k]\n",
    "    if k > 400:\n",
    "        longer_than += context_len[k]"
   ]
  },
  {
   "cell_type": "code",
   "execution_count": 8,
   "metadata": {
    "ExecuteTime": {
     "end_time": "2018-12-13T13:52:57.417656Z",
     "start_time": "2018-12-13T13:52:57.402442Z"
    }
   },
   "outputs": [
    {
     "name": "stdout",
     "output_type": "stream",
     "text": [
      "The longest context:  809\n",
      "Num of context longer than 400: 44/18896\n"
     ]
    }
   ],
   "source": [
    "print('The longest context: ', max(list(context_len.keys())))\n",
    "print('Num of context longer than 400: {}/{}'.format(longer_than, total))"
   ]
  },
  {
   "cell_type": "markdown",
   "metadata": {},
   "source": [
    "# Distribution of query"
   ]
  },
  {
   "cell_type": "code",
   "execution_count": 9,
   "metadata": {
    "ExecuteTime": {
     "end_time": "2018-12-13T13:52:57.486674Z",
     "start_time": "2018-12-13T13:52:57.420232Z"
    }
   },
   "outputs": [],
   "source": [
    "query_len = Counter()\n",
    "for para in data.train_paragraphs:\n",
    "    for ques in para.questions:\n",
    "        query_len[len(ques.question_toks)] += 1"
   ]
  },
  {
   "cell_type": "code",
   "execution_count": 10,
   "metadata": {
    "ExecuteTime": {
     "end_time": "2018-12-13T13:52:57.491639Z",
     "start_time": "2018-12-13T13:52:57.488301Z"
    }
   },
   "outputs": [],
   "source": [
    "x, y = [], []\n",
    "total, longer_than = 0, 0\n",
    "for k in sorted(list(query_len.keys())):\n",
    "    x.append(k)\n",
    "    y.append(query_len[k])\n",
    "    total += query_len[k]\n",
    "    if k > 50:\n",
    "        longer_than += query_len[k]"
   ]
  },
  {
   "cell_type": "code",
   "execution_count": 11,
   "metadata": {
    "ExecuteTime": {
     "end_time": "2018-12-13T13:52:57.502381Z",
     "start_time": "2018-12-13T13:52:57.493114Z"
    }
   },
   "outputs": [
    {
     "name": "stdout",
     "output_type": "stream",
     "text": [
      "The longest query:  60\n",
      "Num of queries longer than 50: 1/87599\n"
     ]
    }
   ],
   "source": [
    "print('The longest query: ', max(list(query_len.keys())))\n",
    "print('Num of queries longer than 50: {}/{}'.format(longer_than, total))"
   ]
  },
  {
   "cell_type": "code",
   "execution_count": 12,
   "metadata": {
    "ExecuteTime": {
     "end_time": "2018-12-13T13:52:57.899694Z",
     "start_time": "2018-12-13T13:52:57.503418Z"
    }
   },
   "outputs": [
    {
     "data": {
      "text/plain": [
       "<matplotlib.axes._subplots.AxesSubplot at 0x7f268753c588>"
      ]
     },
     "execution_count": 12,
     "metadata": {},
     "output_type": "execute_result"
    },
    {
     "data": {
      "image/png": "[encoded data removed]",
      "text/plain": [
       "<Figure size 864x576 with 1 Axes>"
      ]
     },
     "metadata": {
      "needs_background": "light"
     },
     "output_type": "display_data"
    }
   ],
   "source": [
    "plt.figure(figsize=(12, 8))\n",
    "sns.barplot(x, y)"
   ]
  },
  {
   "cell_type": "markdown",
   "metadata": {},
   "source": [
    "# Distribution of answer length"
   ]
  },
  {
   "cell_type": "code",
   "execution_count": 13,
   "metadata": {
    "ExecuteTime": {
     "end_time": "2018-12-13T13:52:57.902543Z",
     "start_time": "2018-12-13T13:52:57.900698Z"
    }
   },
   "outputs": [],
   "source": [
    "ans_len = Counter()"
   ]
  },
  {
   "cell_type": "code",
   "execution_count": 14,
   "metadata": {
    "ExecuteTime": {
     "end_time": "2018-12-13T13:52:57.993237Z",
     "start_time": "2018-12-13T13:52:57.903783Z"
    }
   },
   "outputs": [],
   "source": [
    "for para in data.train_paragraphs:\n",
    "    for ques in para.questions:\n",
    "        for ans in ques.answers:\n",
    "            ans_len[ans.span.end-ans.span.start] += 1"
   ]
  },
  {
   "cell_type": "code",
   "execution_count": 15,
   "metadata": {
    "ExecuteTime": {
     "end_time": "2018-12-13T13:52:57.997451Z",
     "start_time": "2018-12-13T13:52:57.994413Z"
    }
   },
   "outputs": [],
   "source": [
    "x, y = [], []\n",
    "total = 0\n",
    "longer_30 = 0\n",
    "for k in sorted(list(ans_len.keys())):\n",
    "    x.append(k)\n",
    "    y.append(ans_len[k])\n",
    "    total += ans_len[k]\n",
    "    if k > 30:\n",
    "        longer_30 += ans_len[k]"
   ]
  },
  {
   "cell_type": "code",
   "execution_count": 16,
   "metadata": {
    "ExecuteTime": {
     "end_time": "2018-12-13T13:52:58.008154Z",
     "start_time": "2018-12-13T13:52:57.998338Z"
    }
   },
   "outputs": [
    {
     "name": "stdout",
     "output_type": "stream",
     "text": [
      "The longest span:  45\n",
      "Num of spans longer than 30: 33/87599\n"
     ]
    }
   ],
   "source": [
    "print('The longest span: ', max(list(ans_len.keys())))\n",
    "print('Num of spans longer than 30: {}/{}'.format(longer_30, total))"
   ]
  },
  {
   "cell_type": "code",
   "execution_count": 17,
   "metadata": {
    "ExecuteTime": {
     "end_time": "2018-12-13T13:52:58.370269Z",
     "start_time": "2018-12-13T13:52:58.009139Z"
    }
   },
   "outputs": [
    {
     "data": {
      "text/plain": [
       "<matplotlib.axes._subplots.AxesSubplot at 0x7f2679963eb8>"
      ]
     },
     "execution_count": 17,
     "metadata": {},
     "output_type": "execute_result"
    },
    {
     "data": {
      "image/png": "[encoded data removed]",
      "text/plain": [
       "<Figure size 864x576 with 1 Axes>"
      ]
     },
     "metadata": {
      "needs_background": "light"
     },
     "output_type": "display_data"
    }
   ],
   "source": [
    "plt.figure(figsize=(12, 8))\n",
    "sns.barplot(x, y)"
   ]
  },
  {
   "cell_type": "code",
   "execution_count": null,
   "metadata": {},
   "outputs": [],
   "source": []
  }
 ],
 "metadata": {
  "kernelspec": {
   "display_name": "Python 3",
   "language": "python",
   "name": "python3"
  },
  "language_info": {
   "codemirror_mode": {
    "name": "ipython",
    "version": 3
   },
   "file_extension": ".py",
   "mimetype": "text/x-python",
   "name": "python",
   "nbconvert_exporter": "python",
   "pygments_lexer": "ipython3",
   "version": "3.6.7"
  }
 },
 "nbformat": 4,
 "nbformat_minor": 2
}
